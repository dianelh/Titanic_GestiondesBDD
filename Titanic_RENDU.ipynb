{
 "cells": [
  {
   "cell_type": "code",
   "execution_count": 1,
   "id": "96985d69",
   "metadata": {
    "scrolled": false
   },
   "outputs": [
    {
     "data": {
      "text/html": [
       "<div>\n",
       "<style scoped>\n",
       "    .dataframe tbody tr th:only-of-type {\n",
       "        vertical-align: middle;\n",
       "    }\n",
       "\n",
       "    .dataframe tbody tr th {\n",
       "        vertical-align: top;\n",
       "    }\n",
       "\n",
       "    .dataframe thead th {\n",
       "        text-align: right;\n",
       "    }\n",
       "</style>\n",
       "<table border=\"1\" class=\"dataframe\">\n",
       "  <thead>\n",
       "    <tr style=\"text-align: right;\">\n",
       "      <th></th>\n",
       "      <th>PassengerId</th>\n",
       "      <th>Survived</th>\n",
       "      <th>Pclass</th>\n",
       "      <th>Name</th>\n",
       "      <th>Sex</th>\n",
       "      <th>Age</th>\n",
       "      <th>SibSp</th>\n",
       "      <th>Parch</th>\n",
       "      <th>Ticket</th>\n",
       "      <th>Fare</th>\n",
       "      <th>Cabin</th>\n",
       "      <th>Embarked</th>\n",
       "    </tr>\n",
       "  </thead>\n",
       "  <tbody>\n",
       "    <tr>\n",
       "      <th>0</th>\n",
       "      <td>1</td>\n",
       "      <td>0</td>\n",
       "      <td>3</td>\n",
       "      <td>Braund, Mr. Owen Harris</td>\n",
       "      <td>male</td>\n",
       "      <td>22.0</td>\n",
       "      <td>1</td>\n",
       "      <td>0</td>\n",
       "      <td>A/5 21171</td>\n",
       "      <td>7.2500</td>\n",
       "      <td>NaN</td>\n",
       "      <td>S</td>\n",
       "    </tr>\n",
       "    <tr>\n",
       "      <th>1</th>\n",
       "      <td>2</td>\n",
       "      <td>1</td>\n",
       "      <td>1</td>\n",
       "      <td>Cumings, Mrs. John Bradley (Florence Briggs Th...</td>\n",
       "      <td>female</td>\n",
       "      <td>38.0</td>\n",
       "      <td>1</td>\n",
       "      <td>0</td>\n",
       "      <td>PC 17599</td>\n",
       "      <td>71.2833</td>\n",
       "      <td>C85</td>\n",
       "      <td>C</td>\n",
       "    </tr>\n",
       "    <tr>\n",
       "      <th>2</th>\n",
       "      <td>3</td>\n",
       "      <td>1</td>\n",
       "      <td>3</td>\n",
       "      <td>Heikkinen, Miss. Laina</td>\n",
       "      <td>female</td>\n",
       "      <td>26.0</td>\n",
       "      <td>0</td>\n",
       "      <td>0</td>\n",
       "      <td>STON/O2. 3101282</td>\n",
       "      <td>7.9250</td>\n",
       "      <td>NaN</td>\n",
       "      <td>S</td>\n",
       "    </tr>\n",
       "    <tr>\n",
       "      <th>3</th>\n",
       "      <td>4</td>\n",
       "      <td>1</td>\n",
       "      <td>1</td>\n",
       "      <td>Futrelle, Mrs. Jacques Heath (Lily May Peel)</td>\n",
       "      <td>female</td>\n",
       "      <td>35.0</td>\n",
       "      <td>1</td>\n",
       "      <td>0</td>\n",
       "      <td>113803</td>\n",
       "      <td>53.1000</td>\n",
       "      <td>C123</td>\n",
       "      <td>S</td>\n",
       "    </tr>\n",
       "    <tr>\n",
       "      <th>4</th>\n",
       "      <td>5</td>\n",
       "      <td>0</td>\n",
       "      <td>3</td>\n",
       "      <td>Allen, Mr. William Henry</td>\n",
       "      <td>male</td>\n",
       "      <td>35.0</td>\n",
       "      <td>0</td>\n",
       "      <td>0</td>\n",
       "      <td>373450</td>\n",
       "      <td>8.0500</td>\n",
       "      <td>NaN</td>\n",
       "      <td>S</td>\n",
       "    </tr>\n",
       "  </tbody>\n",
       "</table>\n",
       "</div>"
      ],
      "text/plain": [
       "   PassengerId  Survived  Pclass  \\\n",
       "0            1         0       3   \n",
       "1            2         1       1   \n",
       "2            3         1       3   \n",
       "3            4         1       1   \n",
       "4            5         0       3   \n",
       "\n",
       "                                                Name     Sex   Age  SibSp  \\\n",
       "0                            Braund, Mr. Owen Harris    male  22.0      1   \n",
       "1  Cumings, Mrs. John Bradley (Florence Briggs Th...  female  38.0      1   \n",
       "2                             Heikkinen, Miss. Laina  female  26.0      0   \n",
       "3       Futrelle, Mrs. Jacques Heath (Lily May Peel)  female  35.0      1   \n",
       "4                           Allen, Mr. William Henry    male  35.0      0   \n",
       "\n",
       "   Parch            Ticket     Fare Cabin Embarked  \n",
       "0      0         A/5 21171   7.2500   NaN        S  \n",
       "1      0          PC 17599  71.2833   C85        C  \n",
       "2      0  STON/O2. 3101282   7.9250   NaN        S  \n",
       "3      0            113803  53.1000  C123        S  \n",
       "4      0            373450   8.0500   NaN        S  "
      ]
     },
     "execution_count": 1,
     "metadata": {},
     "output_type": "execute_result"
    }
   ],
   "source": [
    "#importer des bibliothèques nécessaires \n",
    "import pandas as pd\n",
    "import numpy as np\n",
    "import matplotlib.pyplot as plt\n",
    "import seaborn as sns\n",
    "from sklearn.preprocessing import LabelEncoder\n",
    "from sklearn.tree import DecisionTreeClassifier\n",
    "\n",
    "#chargement des données d'entrainement et de test \n",
    "train_data = pd.read_csv('/Users/diane/Desktop/Gestion des BDD Thierry VALLAUD/Projet/Titanic-master/data/train.csv')\n",
    "test_data = pd.read_csv('/Users/diane/Desktop/Gestion des BDD Thierry VALLAUD/Projet/Titanic-master/data/test.csv')\n",
    "\n",
    "#Exploration de la donnée \n",
    "#afficher les 5 premières lignes du dataset d'entrainement \n",
    "train_data.head()"
   ]
  },
  {
   "cell_type": "code",
   "execution_count": 2,
   "id": "24cb6805",
   "metadata": {},
   "outputs": [
    {
     "data": {
      "text/html": [
       "<div>\n",
       "<style scoped>\n",
       "    .dataframe tbody tr th:only-of-type {\n",
       "        vertical-align: middle;\n",
       "    }\n",
       "\n",
       "    .dataframe tbody tr th {\n",
       "        vertical-align: top;\n",
       "    }\n",
       "\n",
       "    .dataframe thead th {\n",
       "        text-align: right;\n",
       "    }\n",
       "</style>\n",
       "<table border=\"1\" class=\"dataframe\">\n",
       "  <thead>\n",
       "    <tr style=\"text-align: right;\">\n",
       "      <th></th>\n",
       "      <th>PassengerId</th>\n",
       "      <th>Survived</th>\n",
       "      <th>Pclass</th>\n",
       "      <th>Age</th>\n",
       "      <th>SibSp</th>\n",
       "      <th>Parch</th>\n",
       "      <th>Fare</th>\n",
       "    </tr>\n",
       "  </thead>\n",
       "  <tbody>\n",
       "    <tr>\n",
       "      <th>count</th>\n",
       "      <td>891.000000</td>\n",
       "      <td>891.000000</td>\n",
       "      <td>891.000000</td>\n",
       "      <td>714.000000</td>\n",
       "      <td>891.000000</td>\n",
       "      <td>891.000000</td>\n",
       "      <td>891.000000</td>\n",
       "    </tr>\n",
       "    <tr>\n",
       "      <th>mean</th>\n",
       "      <td>446.000000</td>\n",
       "      <td>0.383838</td>\n",
       "      <td>2.308642</td>\n",
       "      <td>29.699118</td>\n",
       "      <td>0.523008</td>\n",
       "      <td>0.381594</td>\n",
       "      <td>32.204208</td>\n",
       "    </tr>\n",
       "    <tr>\n",
       "      <th>std</th>\n",
       "      <td>257.353842</td>\n",
       "      <td>0.486592</td>\n",
       "      <td>0.836071</td>\n",
       "      <td>14.526497</td>\n",
       "      <td>1.102743</td>\n",
       "      <td>0.806057</td>\n",
       "      <td>49.693429</td>\n",
       "    </tr>\n",
       "    <tr>\n",
       "      <th>min</th>\n",
       "      <td>1.000000</td>\n",
       "      <td>0.000000</td>\n",
       "      <td>1.000000</td>\n",
       "      <td>0.420000</td>\n",
       "      <td>0.000000</td>\n",
       "      <td>0.000000</td>\n",
       "      <td>0.000000</td>\n",
       "    </tr>\n",
       "    <tr>\n",
       "      <th>25%</th>\n",
       "      <td>223.500000</td>\n",
       "      <td>0.000000</td>\n",
       "      <td>2.000000</td>\n",
       "      <td>20.125000</td>\n",
       "      <td>0.000000</td>\n",
       "      <td>0.000000</td>\n",
       "      <td>7.910400</td>\n",
       "    </tr>\n",
       "    <tr>\n",
       "      <th>50%</th>\n",
       "      <td>446.000000</td>\n",
       "      <td>0.000000</td>\n",
       "      <td>3.000000</td>\n",
       "      <td>28.000000</td>\n",
       "      <td>0.000000</td>\n",
       "      <td>0.000000</td>\n",
       "      <td>14.454200</td>\n",
       "    </tr>\n",
       "    <tr>\n",
       "      <th>75%</th>\n",
       "      <td>668.500000</td>\n",
       "      <td>1.000000</td>\n",
       "      <td>3.000000</td>\n",
       "      <td>38.000000</td>\n",
       "      <td>1.000000</td>\n",
       "      <td>0.000000</td>\n",
       "      <td>31.000000</td>\n",
       "    </tr>\n",
       "    <tr>\n",
       "      <th>max</th>\n",
       "      <td>891.000000</td>\n",
       "      <td>1.000000</td>\n",
       "      <td>3.000000</td>\n",
       "      <td>80.000000</td>\n",
       "      <td>8.000000</td>\n",
       "      <td>6.000000</td>\n",
       "      <td>512.329200</td>\n",
       "    </tr>\n",
       "  </tbody>\n",
       "</table>\n",
       "</div>"
      ],
      "text/plain": [
       "       PassengerId    Survived      Pclass         Age       SibSp  \\\n",
       "count   891.000000  891.000000  891.000000  714.000000  891.000000   \n",
       "mean    446.000000    0.383838    2.308642   29.699118    0.523008   \n",
       "std     257.353842    0.486592    0.836071   14.526497    1.102743   \n",
       "min       1.000000    0.000000    1.000000    0.420000    0.000000   \n",
       "25%     223.500000    0.000000    2.000000   20.125000    0.000000   \n",
       "50%     446.000000    0.000000    3.000000   28.000000    0.000000   \n",
       "75%     668.500000    1.000000    3.000000   38.000000    1.000000   \n",
       "max     891.000000    1.000000    3.000000   80.000000    8.000000   \n",
       "\n",
       "            Parch        Fare  \n",
       "count  891.000000  891.000000  \n",
       "mean     0.381594   32.204208  \n",
       "std      0.806057   49.693429  \n",
       "min      0.000000    0.000000  \n",
       "25%      0.000000    7.910400  \n",
       "50%      0.000000   14.454200  \n",
       "75%      0.000000   31.000000  \n",
       "max      6.000000  512.329200  "
      ]
     },
     "execution_count": 2,
     "metadata": {},
     "output_type": "execute_result"
    }
   ],
   "source": [
    "#Résumé statistique des variables numériques des données d'entrainement \n",
    "train_data.describe()"
   ]
  },
  {
   "cell_type": "code",
   "execution_count": 3,
   "id": "252b1480",
   "metadata": {
    "scrolled": true
   },
   "outputs": [
    {
     "data": {
      "text/plain": [
       "PassengerId      0\n",
       "Survived         0\n",
       "Pclass           0\n",
       "Name             0\n",
       "Sex              0\n",
       "Age            177\n",
       "SibSp            0\n",
       "Parch            0\n",
       "Ticket           0\n",
       "Fare             0\n",
       "Cabin          687\n",
       "Embarked         2\n",
       "dtype: int64"
      ]
     },
     "execution_count": 3,
     "metadata": {},
     "output_type": "execute_result"
    }
   ],
   "source": [
    "#vérification si il y a des données manquantes dans le dataset d'entrainement \n",
    "train_data.isnull().sum()"
   ]
  },
  {
   "cell_type": "code",
   "execution_count": 4,
   "id": "13c31d8f",
   "metadata": {
    "scrolled": true
   },
   "outputs": [
    {
     "name": "stdout",
     "output_type": "stream",
     "text": [
      "Pourcentage de valeurs nulles dans la colonne Age : 19.865319865319865 %\n",
      "Pourcentage de valeurs nulles dans la colonne Cabin : 77.10437710437711 %\n"
     ]
    }
   ],
   "source": [
    "# Calcul du pourcentage de valeurs nulles dans les colonnes \"Age\" et \"Cabin\"\n",
    "print(\"Pourcentage de valeurs nulles dans la colonne Age :\", train_data[\"Age\"].isnull().sum() / len(train_data[\"Age\"]) * 100, \"%\")\n",
    "print(\"Pourcentage de valeurs nulles dans la colonne Cabin :\", train_data[\"Cabin\"].isnull().sum() / len(train_data[\"Cabin\"]) * 100, \"%\")\n"
   ]
  },
  {
   "cell_type": "code",
   "execution_count": 5,
   "id": "541c0447",
   "metadata": {
    "scrolled": true
   },
   "outputs": [
    {
     "ename": "NameError",
     "evalue": "name 'survived_by_class' is not defined",
     "output_type": "error",
     "traceback": [
      "\u001b[0;31m---------------------------------------------------------------------------\u001b[0m",
      "\u001b[0;31mNameError\u001b[0m                                 Traceback (most recent call last)",
      "\u001b[0;32m/var/folders/7p/rtz8bg95169d72p6wtb76qnw0000gn/T/ipykernel_49680/1395356352.py\u001b[0m in \u001b[0;36m<module>\u001b[0;34m\u001b[0m\n\u001b[1;32m      2\u001b[0m \u001b[0;31m# Calculer le pourcentage de survivants pour chaque taille de famille\u001b[0m\u001b[0;34m\u001b[0m\u001b[0;34m\u001b[0m\u001b[0m\n\u001b[1;32m      3\u001b[0m \u001b[0msurvived_by_parch\u001b[0m \u001b[0;34m=\u001b[0m \u001b[0mtrain_data\u001b[0m\u001b[0;34m.\u001b[0m\u001b[0mgroupby\u001b[0m\u001b[0;34m(\u001b[0m\u001b[0;34m[\u001b[0m\u001b[0;34m'Parch'\u001b[0m\u001b[0;34m]\u001b[0m\u001b[0;34m)\u001b[0m\u001b[0;34m[\u001b[0m\u001b[0;34m'Survived'\u001b[0m\u001b[0;34m]\u001b[0m\u001b[0;34m.\u001b[0m\u001b[0mmean\u001b[0m\u001b[0;34m(\u001b[0m\u001b[0;34m)\u001b[0m \u001b[0;34m*\u001b[0m \u001b[0;36m100\u001b[0m\u001b[0;34m\u001b[0m\u001b[0;34m\u001b[0m\u001b[0m\n\u001b[0;32m----> 4\u001b[0;31m \u001b[0mprint\u001b[0m\u001b[0;34m(\u001b[0m\u001b[0msurvived_by_class\u001b[0m\u001b[0;34m)\u001b[0m\u001b[0;34m\u001b[0m\u001b[0;34m\u001b[0m\u001b[0m\n\u001b[0m",
      "\u001b[0;31mNameError\u001b[0m: name 'survived_by_class' is not defined"
     ]
    },
    {
     "data": {
      "image/png": "[encoded data removed]",
      "text/plain": [
       "<Figure size 640x480 with 1 Axes>"
      ]
     },
     "metadata": {},
     "output_type": "display_data"
    }
   ],
   "source": [
    "sns.countplot(x='Parch', hue='Survived', data=train_data)\n",
    "# Calculer le pourcentage de survivants pour chaque taille de famille  \n",
    "survived_by_parch = train_data.groupby(['Parch'])['Survived'].mean() * 100\n",
    "print(survived_by_class)"
   ]
  },
  {
   "cell_type": "code",
   "execution_count": null,
   "id": "56bf8c11",
   "metadata": {},
   "outputs": [],
   "source": [
    "#\n",
    "sns.histplot(train_data['Pclass'].dropna(), kde=False)"
   ]
  },
  {
   "cell_type": "code",
   "execution_count": null,
   "id": "d89230a8",
   "metadata": {},
   "outputs": [],
   "source": [
    "#\n",
    "sns.histplot(train_data['Embarked'].dropna(), kde=False, bins=30)\n",
    "#S=Southampton\n",
    "#C=Cherbourg\n",
    "#Q=Queenstown"
   ]
  },
  {
   "cell_type": "code",
   "execution_count": null,
   "id": "f9918d3c",
   "metadata": {},
   "outputs": [],
   "source": [
    "sns.heatmap(train_data.corr(), annot=True)\n",
    "plt.show()\n",
    "#corrélation proche de 0 alors faible relation linéaire \n",
    "#corrélation proche de +1 et de -1 alors forte relation linéaire "
   ]
  },
  {
   "cell_type": "code",
   "execution_count": null,
   "id": "bd28c512",
   "metadata": {
    "scrolled": true
   },
   "outputs": [],
   "source": [
    "sns.countplot(x='Pclass', hue='Survived', data=train_data)\n",
    "# Calculer le pourcentage de survivants pour chaque groupe de classe \n",
    "survived_by_class = train_data.groupby(['Pclass'])['Survived'].mean() * 100\n",
    "print(survived_by_class)"
   ]
  },
  {
   "cell_type": "code",
   "execution_count": null,
   "id": "7c9951f4",
   "metadata": {
    "scrolled": true
   },
   "outputs": [],
   "source": [
    "# Calculer le pourcentage de survivants pour chaque tarif\n",
    "survived_by_tarif = train_data.groupby(['Fare'])['Survived'].mean() * 100\n",
    "\n",
    "# Afficher les tarifs avec les pourcentages de survie les plus élevés et les plus bas\n",
    "highest_survival = survived_by_tarif.nlargest(5)\n",
    "lowest_survival = survived_by_tarif.nsmallest(5)\n",
    "\n",
    "# Afficher les résultats\n",
    "print(\"Tarifs avec les pourcentages de survie les plus élevés :\")\n",
    "print(highest_survival)\n",
    "print(\"\\nTarifs avec les pourcentages de survie les plus bas :\")\n",
    "print(lowest_survival)\n",
    "\n"
   ]
  },
  {
   "cell_type": "code",
   "execution_count": null,
   "id": "666ea333",
   "metadata": {
    "scrolled": true
   },
   "outputs": [],
   "source": [
    "sns.countplot(x='Sex', hue='Survived', data=train_data )  \n",
    "\n",
    "# Calculer le pourcentage de survivants pour chaque groupe de sexe\n",
    "survived_by_sex = train_data.groupby(['Sex'])['Survived'].mean() * 100\n",
    "print(survived_by_sex)\n",
    "    "
   ]
  },
  {
   "cell_type": "code",
   "execution_count": 6,
   "id": "7db8151a",
   "metadata": {},
   "outputs": [],
   "source": [
    "# nettoyer les données d'entraînement et sélectionner les fonctionnalités appropriées\n",
    "train_data = train_data.drop(['PassengerId', 'Name', 'Ticket', 'Cabin'], axis=1)\n",
    "train_data['Age'] = train_data['Age'].fillna(train_data['Age'].median())\n",
    "train_data = train_data.dropna()\n",
    "train_data['Sex'] = train_data['Sex'].map({'female': 1, 'male': 0})\n",
    "train_data['Embarked'] = train_data['Embarked'].map({'S': 0, 'C': 1, 'Q': 2})\n",
    "train_data = train_data.astype({'Embarked': 'int'})\n",
    "\n",
    "# créer le modèle d'arbre de décision\n",
    "dt = DecisionTreeClassifier(max_depth=3)\n",
    "\n",
    "# entraîner le modèle avec les données d'entraînement\n",
    "X_train = train_data.drop(['Survived'], axis=1)\n",
    "y_train = train_data['Survived']\n",
    "dt.fit(X_train, y_train)\n",
    "\n",
    "# nettoyer les données de test et sélectionner les fonctionnalités appropriées\n",
    "test_passenger_ids = test_data['PassengerId']\n",
    "test_data = test_data.drop(['PassengerId', 'Name', 'Ticket', 'Cabin'], axis=1)\n",
    "test_data['Age'] = test_data['Age'].fillna(test_data['Age'].median())\n",
    "test_data = test_data.fillna(0)  # remplacer toutes les valeurs manquantes restantes par 0\n",
    "test_data['Sex'] = test_data['Sex'].map({'female': 1, 'male': 0})\n",
    "test_data['Embarked'] = test_data['Embarked'].map({'S': 0, 'C': 1, 'Q': 2})\n",
    "test_data = test_data.astype({'Embarked': 'int'})\n",
    "\n",
    "# faire des prédictions sur les données de test\n",
    "y_pred = dt.predict(test_data)\n",
    "\n",
    "# créer un dataframe pour les prédictions\n",
    "output_prediction = pd.DataFrame({'PassengerId': test_passenger_ids, 'Survived': y_pred})\n",
    "\n",
    "# enregistrer les prédictions dans un fichier CSV\n",
    "output_prediction.to_csv('predictions.csv', index=False)\n"
   ]
  },
  {
   "cell_type": "code",
   "execution_count": 11,
   "id": "fd9d98be",
   "metadata": {},
   "outputs": [
    {
     "name": "stdout",
     "output_type": "stream",
     "text": [
      "Pourcentage de survivants dans le jeu de données de test : 35.89%\n"
     ]
    }
   ],
   "source": [
    "# compter le nombre de survivants dans les prédictions\n",
    "num_survivors = sum(y_pred)\n",
    "\n",
    "# calculer le pourcentage de survivants\n",
    "percent_survivors = num_survivors / len(y_pred) * 100\n",
    "\n",
    "# afficher le pourcentage de survivants\n",
    "print(\"Pourcentage de survivants dans le jeu de données de test : {:.2f}%\".format(percent_survivors))\n"
   ]
  },
  {
   "cell_type": "code",
   "execution_count": 12,
   "id": "7d7c58a5",
   "metadata": {},
   "outputs": [
    {
     "name": "stdout",
     "output_type": "stream",
     "text": [
      "Nombre de survivants dans le dataset de test : 150\n"
     ]
    }
   ],
   "source": [
    "# nombre de survivants dans le dataset de test\n",
    "num_survivors = sum(y_pred)\n",
    "print(\"Nombre de survivants dans le dataset de test :\", num_survivors)\n"
   ]
  },
  {
   "cell_type": "code",
   "execution_count": 13,
   "id": "7ec40f4a",
   "metadata": {},
   "outputs": [
    {
     "name": "stdout",
     "output_type": "stream",
     "text": [
      "Nombre total de passagers dans le dataset de test:  418\n"
     ]
    }
   ],
   "source": [
    "total_passengers = test_data.shape[0]\n",
    "print(\"Nombre total de passagers dans le dataset de test: \", total_passengers)\n"
   ]
  },
  {
   "cell_type": "code",
   "execution_count": 7,
   "id": "23a7e502",
   "metadata": {},
   "outputs": [
    {
     "name": "stdout",
     "output_type": "stream",
     "text": [
      "Précision du modèle : 82.68%\n"
     ]
    }
   ],
   "source": [
    "from sklearn.metrics import accuracy_score\n",
    "\n",
    "# faire des prédictions sur les données d'entraînement\n",
    "y_pred_train = dt.predict(X_train)\n",
    "\n",
    "# calculer la précision\n",
    "accuracy = accuracy_score(y_train, y_pred_train)\n",
    "print(\"Précision du modèle : {:.2f}%\".format(accuracy*100))"
   ]
  },
  {
   "cell_type": "code",
   "execution_count": 8,
   "id": "2f3c72f8",
   "metadata": {
    "scrolled": true
   },
   "outputs": [
    {
     "name": "stdout",
     "output_type": "stream",
     "text": [
      "AgeGroup\n",
      "0-10     59.375000\n",
      "10-20    38.260870\n",
      "20-30    33.415233\n",
      "30-40    44.155844\n",
      "40-50    38.372093\n",
      "50-60    40.476190\n",
      "60-70    18.750000\n",
      "70-80    20.000000\n",
      "80-90          NaN\n",
      "Name: Survived, dtype: float64\n"
     ]
    },
    {
     "data": {
      "image/png": "[encoded data removed]",
      "text/plain": [
       "<Figure size 640x480 with 1 Axes>"
      ]
     },
     "metadata": {},
     "output_type": "display_data"
    }
   ],
   "source": [
    "# Regrouper les âges par tranches d'âge\n",
    "age_bins = [0, 10, 20, 30, 40, 50, 60, 70, 80, 90]\n",
    "age_labels = ['0-10', '10-20', '20-30', '30-40', '40-50', '50-60', '60-70', '70-80', '80-90'] #création de groupe d'âge afin d'améliorer la lisibilité des résultats \n",
    "train_data['AgeGroup'] = pd.cut(train_data['Age'], bins=age_bins, labels=age_labels)\n",
    "\n",
    "# Afficher le countplot avec les tranches d'âge \n",
    "sns.countplot(x='AgeGroup', hue='Survived', data=train_data)\n",
    "\n",
    "# Calculer le pourcentage de survivants pour chaque groupe d'âge \n",
    "survived_by_age = train_data.groupby(['AgeGroup'])['Survived'].mean() * 100\n",
    "\n",
    "# Afficher les pourcentages de survivants par groupe d'âge \n",
    "print(survived_by_age)\n"
   ]
  },
  {
   "cell_type": "code",
   "execution_count": 9,
   "id": "bd2d4914",
   "metadata": {
    "scrolled": false
   },
   "outputs": [
    {
     "data": {
      "image/png": "[encoded data removed]",
      "text/plain": [
       "<Figure size 640x480 with 2 Axes>"
      ]
     },
     "metadata": {},
     "output_type": "display_data"
    }
   ],
   "source": [
    "# Matrice de corrélation pour les variables catégorielles\n",
    "cat_corr = train_data[['Sex', 'Age' , 'Embarked', 'Survived']].corr()\n",
    "sns.heatmap(cat_corr, annot=True)\n",
    "plt.show()\n"
   ]
  },
  {
   "cell_type": "code",
   "execution_count": 10,
   "id": "e3deefb2",
   "metadata": {},
   "outputs": [
    {
     "data": {
      "image/png": "[encoded data removed]",
      "text/plain": [
       "<Figure size 500x500 with 1 Axes>"
      ]
     },
     "metadata": {},
     "output_type": "display_data"
    },
    {
     "data": {
      "image/png": "[encoded data removed]",
      "text/plain": [
       "<Figure size 500x500 with 1 Axes>"
      ]
     },
     "metadata": {},
     "output_type": "display_data"
    }
   ],
   "source": [
    "# Affichage des variables catégorielles\n",
    "g = sns.catplot(x='Sex', y='Survived', data=train_data, kind='bar')\n",
    "g.set(xlabel='Sexe', ylabel='Taux de survie', title='Taux de survie selon le sexe')\n",
    "\n",
    "h = sns.catplot(x='Embarked', y='Survived', data=train_data, kind='bar')\n",
    "h.set(xlabel='Port d\\'embarquement', ylabel='Taux de survie', title='Taux de survie selon le port d\\'embarquement')\n",
    "\n",
    "# Transformation des variables catégorielles en variables numériques\n",
    "le = LabelEncoder()\n",
    "train_data['Sex'] = le.fit_transform(train_data['Sex'])\n",
    "train_data['Embarked'] = le.fit_transform(train_data['Embarked'])\n",
    "\n"
   ]
  },
  {
   "cell_type": "code",
   "execution_count": null,
   "id": "b6f1e938",
   "metadata": {},
   "outputs": [],
   "source": []
  }
 ],
 "metadata": {
  "kernelspec": {
   "display_name": "Python 3 (ipykernel)",
   "language": "python",
   "name": "python3"
  },
  "language_info": {
   "codemirror_mode": {
    "name": "ipython",
    "version": 3
   },
   "file_extension": ".py",
   "mimetype": "text/x-python",
   "name": "python",
   "nbconvert_exporter": "python",
   "pygments_lexer": "ipython3",
   "version": "3.9.13"
  }
 },
 "nbformat": 4,
 "nbformat_minor": 5
}
